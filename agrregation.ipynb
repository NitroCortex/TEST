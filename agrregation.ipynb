{
 "cells": [
  {
   "cell_type": "markdown",
   "metadata": {},
   "source": [
    "## Aggregation function"
   ]
  },
  {
   "cell_type": "markdown",
   "metadata": {},
   "source": [
    "In our optimization problem we are interested in the problem of minimizing the induce drag coefficient $C_{D_i}$, the structural mass or something else subject to constraints on structural failure. In particular, we are interested in failure criteria based on yield stress. That choise is desirable because checking the failure criteria in the optimization problem will mean that the optimized design of the structure is suitable for the prescribed loading condition.\n",
    "\n",
    "Including failure constraint directly in the structural optimization problem provides some issues:\n",
    "\n",
    "As first the resulting size of the problem, in fact we have to set a constraint for each FEM element, that lead to, for detailed high-fidelity structural models, an optimization problem with many of thousands or millions of failure constraints. These constraint are **costly** to enforce because they can only be checked by completing the structural analysis. \n",
    "\n",
    "In our example case with the CRM wing model, with about 25'000 FEM elements, the computational cost is so high that already in the openMDAO setting step the software can crash for memory leak.\n",
    "\n",
    "Moreover "
   ]
  },
  {
   "cell_type": "markdown",
   "metadata": {
    "collapsed": true
   },
   "source": [
    "In the optimization process, each time that we run a FEM analysis, we store in a vector all the stress's components over the displacements of the structural nodes."
   ]
  },
  {
   "cell_type": "markdown",
   "metadata": {
    "collapsed": true
   },
   "source": [
    "![title](img/picture.png)"
   ]
  },
  {
   "cell_type": "code",
   "execution_count": null,
   "metadata": {
    "collapsed": true
   },
   "outputs": [],
   "source": []
  },
  {
   "cell_type": "code",
   "execution_count": null,
   "metadata": {
    "collapsed": true
   },
   "outputs": [],
   "source": []
  },
  {
   "cell_type": "code",
   "execution_count": null,
   "metadata": {
    "collapsed": true
   },
   "outputs": [],
   "source": []
  },
  {
   "cell_type": "code",
   "execution_count": null,
   "metadata": {
    "collapsed": true
   },
   "outputs": [],
   "source": [
    "\\begin{equation} \\frac {a}{b} \\end{equation}"
   ]
  },
  {
   "cell_type": "code",
   "execution_count": null,
   "metadata": {
    "collapsed": true
   },
   "outputs": [],
   "source": []
  },
  {
   "cell_type": "code",
   "execution_count": null,
   "metadata": {
    "collapsed": true
   },
   "outputs": [],
   "source": [
    "\\begin{equation}\\binom{n}{k} = \\frac{n!}{k!(n-k)!}\\end{equation}"
   ]
  },
  {
   "cell_type": "code",
   "execution_count": null,
   "metadata": {
    "collapsed": true
   },
   "outputs": [],
   "source": []
  },
  {
   "cell_type": "code",
   "execution_count": null,
   "metadata": {
    "collapsed": true
   },
   "outputs": [],
   "source": []
  }
 ],
 "metadata": {
  "anaconda-cloud": {},
  "kernelspec": {
   "display_name": "Python [Anaconda2]",
   "language": "python",
   "name": "Python [Anaconda2]"
  },
  "language_info": {
   "codemirror_mode": {
    "name": "ipython",
    "version": 2
   },
   "file_extension": ".py",
   "mimetype": "text/x-python",
   "name": "python",
   "nbconvert_exporter": "python",
   "pygments_lexer": "ipython2",
   "version": "2.7.11"
  }
 },
 "nbformat": 4,
 "nbformat_minor": 2
}
